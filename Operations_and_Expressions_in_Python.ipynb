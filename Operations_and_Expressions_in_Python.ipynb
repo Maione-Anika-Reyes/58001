{
  "nbformat": 4,
  "nbformat_minor": 0,
  "metadata": {
    "colab": {
      "provenance": [],
      "authorship_tag": "ABX9TyMf3M4jv9wsINRup4+qrHCM",
      "include_colab_link": true
    },
    "kernelspec": {
      "name": "python3",
      "display_name": "Python 3"
    },
    "language_info": {
      "name": "python"
    }
  },
  "cells": [
    {
      "cell_type": "markdown",
      "metadata": {
        "id": "view-in-github",
        "colab_type": "text"
      },
      "source": [
        "<a href=\"https://colab.research.google.com/github/Maione-Anika-Reyes/OOP-58001/blob/main/Operations_and_Expressions_in_Python.ipynb\" target=\"_parent\"><img src=\"https://colab.research.google.com/assets/colab-badge.svg\" alt=\"Open In Colab\"/></a>"
      ]
    },
    {
      "cell_type": "markdown",
      "source": [
        "Boolean Operators"
      ],
      "metadata": {
        "id": "eSJSeMxyTP31"
      }
    },
    {
      "cell_type": "code",
      "source": [
        "print (10>9)\n",
        "print (10==9)\n",
        "print (10<9)"
      ],
      "metadata": {
        "colab": {
          "base_uri": "https://localhost:8080/"
        },
        "id": "Xdxrm7ITTROr",
        "outputId": "1dbdbce9-7a22-4aa7-cacd-4520c19899a5"
      },
      "execution_count": 2,
      "outputs": [
        {
          "output_type": "stream",
          "name": "stdout",
          "text": [
            "True\n",
            "False\n",
            "False\n"
          ]
        }
      ]
    },
    {
      "cell_type": "markdown",
      "source": [
        "Bool Function"
      ],
      "metadata": {
        "id": "c5LUsogkUeyj"
      }
    },
    {
      "cell_type": "code",
      "source": [
        "print (bool(\"Hello\"))\n",
        "print (bool(1))\n",
        "print (bool(0))\n",
        "print (bool(None))\n",
        "print (bool(True))\n"
      ],
      "metadata": {
        "colab": {
          "base_uri": "https://localhost:8080/"
        },
        "id": "YJLz9kaxU66D",
        "outputId": "b1a5ff32-0416-4942-bf57-e53ae2f22889"
      },
      "execution_count": 3,
      "outputs": [
        {
          "output_type": "stream",
          "name": "stdout",
          "text": [
            "True\n",
            "True\n",
            "False\n",
            "False\n",
            "True\n"
          ]
        }
      ]
    },
    {
      "cell_type": "markdown",
      "source": [
        "Functions can return a Boolean"
      ],
      "metadata": {
        "id": "CeWcWEu4VBSj"
      }
    },
    {
      "cell_type": "code",
      "source": [
        "def HAHA():\n",
        "  return False\n",
        "\n",
        "print (HAHA())"
      ],
      "metadata": {
        "colab": {
          "base_uri": "https://localhost:8080/"
        },
        "id": "sjldCxTVVfS8",
        "outputId": "5523ad1f-ada7-4289-8f27-e2f34843101d"
      },
      "execution_count": 5,
      "outputs": [
        {
          "output_type": "stream",
          "name": "stdout",
          "text": [
            "False\n"
          ]
        }
      ]
    },
    {
      "cell_type": "code",
      "source": [
        "def HAHA():\n",
        "  return True\n",
        "\n",
        "if HAHA():\n",
        "  print (\"YES!\")\n",
        "else:\n",
        "    print (\"NO!\")"
      ],
      "metadata": {
        "colab": {
          "base_uri": "https://localhost:8080/"
        },
        "id": "rCqe7n9WWnEE",
        "outputId": "c516dba6-2a7c-450b-eb2c-f83be9fac856"
      },
      "execution_count": 10,
      "outputs": [
        {
          "output_type": "stream",
          "name": "stdout",
          "text": [
            "YES!\n"
          ]
        }
      ]
    },
    {
      "cell_type": "markdown",
      "source": [
        "You Try"
      ],
      "metadata": {
        "id": "dx8Fb0A7XgH2"
      }
    },
    {
      "cell_type": "code",
      "source": [
        "print (10>9)\n",
        "\n",
        "a = 6\n",
        "b = 7\n",
        "\n",
        "print(a==b)\n",
        "print(a!=b)"
      ],
      "metadata": {
        "colab": {
          "base_uri": "https://localhost:8080/"
        },
        "id": "qcsK5tw5XPZW",
        "outputId": "83d1c0bd-2e13-45bf-a394-829d32a95834"
      },
      "execution_count": 11,
      "outputs": [
        {
          "output_type": "stream",
          "name": "stdout",
          "text": [
            "True\n",
            "False\n",
            "True\n"
          ]
        }
      ]
    },
    {
      "cell_type": "markdown",
      "source": [
        "Python Operators"
      ],
      "metadata": {
        "id": "3tAx5vinX6Tv"
      }
    },
    {
      "cell_type": "code",
      "source": [
        "print (10+5)\n",
        "print (10-5)\n",
        "print (10*5)\n",
        "print (10//2)\n",
        "print(10%2)\n",
        "print (10**2)"
      ],
      "metadata": {
        "colab": {
          "base_uri": "https://localhost:8080/"
        },
        "id": "FT4N2hC3X7su",
        "outputId": "0b4c4d47-73df-4df2-928f-19a57fbfd3bd"
      },
      "execution_count": 14,
      "outputs": [
        {
          "output_type": "stream",
          "name": "stdout",
          "text": [
            "15\n",
            "5\n",
            "50\n",
            "5\n",
            "0\n",
            "100\n"
          ]
        }
      ]
    },
    {
      "cell_type": "markdown",
      "source": [
        "Python Bitwise Operators"
      ],
      "metadata": {
        "id": "t6Bzp5FsYui_"
      }
    },
    {
      "cell_type": "code",
      "source": [
        "a = 60\n",
        "b = 13\n",
        "\n",
        "a>>1"
      ],
      "metadata": {
        "colab": {
          "base_uri": "https://localhost:8080/"
        },
        "id": "6do4fzVKYydt",
        "outputId": "8c6f0562-964c-430d-e763-67029cf8b62a"
      },
      "execution_count": 16,
      "outputs": [
        {
          "output_type": "execute_result",
          "data": {
            "text/plain": [
              "30"
            ]
          },
          "metadata": {},
          "execution_count": 16
        }
      ]
    },
    {
      "cell_type": "markdown",
      "source": [
        "Python Assignment Operators"
      ],
      "metadata": {
        "id": "puWNZttlg_JC"
      }
    },
    {
      "cell_type": "code",
      "source": [
        "x = 5 #kung ano pinakarecent na value ng x yun yung issolve niya\n",
        "\n",
        "x += 3 #same as x = x+3\n",
        "print (x)\n",
        "\n",
        "x = 5\n",
        "x -= 3\n",
        "print (x)\n",
        "\n",
        "x = 5\n",
        "x *=3\n",
        "print (x)\n",
        "\n",
        "x = 5\n",
        "x /= 3\n",
        "print (x)\n",
        "\n",
        "x = 5\n",
        "x %= 3\n",
        "print (x) \n",
        "\n"
      ],
      "metadata": {
        "colab": {
          "base_uri": "https://localhost:8080/"
        },
        "id": "6NCllGH9hNw6",
        "outputId": "0316b75a-518f-47ee-b971-2a5f782ea52e"
      },
      "execution_count": 26,
      "outputs": [
        {
          "output_type": "stream",
          "name": "stdout",
          "text": [
            "8\n",
            "2\n",
            "15\n",
            "1.6666666666666667\n",
            "2\n"
          ]
        }
      ]
    },
    {
      "cell_type": "markdown",
      "source": [
        "Logical Operators"
      ],
      "metadata": {
        "id": "b0uIS3MAjbNC"
      }
    },
    {
      "cell_type": "code",
      "source": [
        "a = True\n",
        "b = False\n",
        "\n",
        "print (not a)\n",
        "print (a and b)\n"
      ],
      "metadata": {
        "colab": {
          "base_uri": "https://localhost:8080/"
        },
        "id": "52Wzt-80jcka",
        "outputId": "c04cf86f-4d60-4a95-e239-88588a011634"
      },
      "execution_count": 27,
      "outputs": [
        {
          "output_type": "stream",
          "name": "stdout",
          "text": [
            "False\n",
            "False\n"
          ]
        }
      ]
    }
  ]
}