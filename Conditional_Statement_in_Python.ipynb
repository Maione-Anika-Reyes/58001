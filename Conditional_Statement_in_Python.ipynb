{
  "nbformat": 4,
  "nbformat_minor": 0,
  "metadata": {
    "colab": {
      "provenance": [],
      "authorship_tag": "ABX9TyMk/Qzdy2T+tK8ZJfuJeu8Z",
      "include_colab_link": true
    },
    "kernelspec": {
      "name": "python3",
      "display_name": "Python 3"
    },
    "language_info": {
      "name": "python"
    }
  },
  "cells": [
    {
      "cell_type": "markdown",
      "metadata": {
        "id": "view-in-github",
        "colab_type": "text"
      },
      "source": [
        "<a href=\"https://colab.research.google.com/github/Maione-Anika-Reyes/OOP-58001/blob/main/Conditional_Statement_in_Python.ipynb\" target=\"_parent\"><img src=\"https://colab.research.google.com/assets/colab-badge.svg\" alt=\"Open In Colab\"/></a>"
      ]
    },
    {
      "cell_type": "markdown",
      "source": [
        "If Statement"
      ],
      "metadata": {
        "id": "19EX8ZFMPaU0"
      }
    },
    {
      "cell_type": "code",
      "source": [
        "a = 12\n",
        "b = 100\n",
        "if b > a:\n",
        "  print(\"b is greater than a\")\n",
        "\n",
        "if 5>2:\n",
        "  print(\"Five is greater than two\")"
      ],
      "metadata": {
        "colab": {
          "base_uri": "https://localhost:8080/"
        },
        "id": "D2dl-I6zPacs",
        "outputId": "1bcb84c8-e1c6-40d2-a44b-8f33d2315270"
      },
      "execution_count": 17,
      "outputs": [
        {
          "output_type": "stream",
          "name": "stdout",
          "text": [
            "b is greater than a\n",
            "Five is greater than two\n"
          ]
        }
      ]
    },
    {
      "cell_type": "markdown",
      "source": [
        "Elif Statements"
      ],
      "metadata": {
        "id": "Up3HewP_P20l"
      }
    },
    {
      "cell_type": "code",
      "source": [
        "a = 100\n",
        "b = 50\n",
        "if a > b:\n",
        "  print (\"a is greater than b\")\n",
        "elif b > a:\n",
        "    print(\"b is greater than a\")"
      ],
      "metadata": {
        "colab": {
          "base_uri": "https://localhost:8080/"
        },
        "id": "6m9-sWbzP46E",
        "outputId": "de5529f8-3fe9-4ba6-ed0b-f49269711972"
      },
      "execution_count": 19,
      "outputs": [
        {
          "output_type": "stream",
          "name": "stdout",
          "text": [
            "a is greater than b\n"
          ]
        }
      ]
    },
    {
      "cell_type": "markdown",
      "source": [
        "Else Statements"
      ],
      "metadata": {
        "id": "lil3pQwHQNmc"
      }
    },
    {
      "cell_type": "code",
      "source": [
        "a = 200\n",
        "b = 33\n",
        "if b > a:\n",
        "  print (\"b is greater than a\")\n",
        "elif a==b:\n",
        "  print (\"a and b are equal\")\n",
        "else:\n",
        "  print(\"a is greater than b\")"
      ],
      "metadata": {
        "colab": {
          "base_uri": "https://localhost:8080/"
        },
        "id": "6gZCTcz7QPd0",
        "outputId": "b96fa327-3881-459a-a622-6e13e2bdfc27"
      },
      "execution_count": 4,
      "outputs": [
        {
          "output_type": "stream",
          "name": "stdout",
          "text": [
            "a is greater than b\n"
          ]
        }
      ]
    },
    {
      "cell_type": "markdown",
      "source": [
        "Short Hand If Statement"
      ],
      "metadata": {
        "id": "1YfdfPvtQf81"
      }
    },
    {
      "cell_type": "code",
      "source": [
        "if a > b: print (\"a is greater than b\")"
      ],
      "metadata": {
        "colab": {
          "base_uri": "https://localhost:8080/"
        },
        "id": "mzZOY0jFQjeb",
        "outputId": "e6d2b2b5-a162-40a8-e5c5-5fab69e37fa4"
      },
      "execution_count": 5,
      "outputs": [
        {
          "output_type": "stream",
          "name": "stdout",
          "text": [
            "a is greater than b\n"
          ]
        }
      ]
    },
    {
      "cell_type": "markdown",
      "source": [
        "Short hand If Else Statement"
      ],
      "metadata": {
        "id": "0K0DaGZRQyLM"
      }
    },
    {
      "cell_type": "code",
      "source": [
        "a = 2\n",
        "b = 330\n",
        "print(\"A\") if a > b else print (\"B\")"
      ],
      "metadata": {
        "colab": {
          "base_uri": "https://localhost:8080/"
        },
        "id": "Lz7GotLDQ1Nd",
        "outputId": "8c1730b7-5e24-46bb-cab2-c9c18e0950f7"
      },
      "execution_count": 6,
      "outputs": [
        {
          "output_type": "stream",
          "name": "stdout",
          "text": [
            "B\n"
          ]
        }
      ]
    },
    {
      "cell_type": "markdown",
      "source": [
        "And-both conditions are true"
      ],
      "metadata": {
        "id": "EPxcE4ckQ-3j"
      }
    },
    {
      "cell_type": "code",
      "source": [
        "a = 200\n",
        "b = 33\n",
        "c = 500\n",
        "if a > b and c > a:\n",
        "  print(\"Both conditions are True\")"
      ],
      "metadata": {
        "colab": {
          "base_uri": "https://localhost:8080/"
        },
        "id": "dF1oCZL4RB6D",
        "outputId": "392aba98-653e-400d-a0a3-c73f5ca83990"
      },
      "execution_count": 7,
      "outputs": [
        {
          "output_type": "stream",
          "name": "stdout",
          "text": [
            "Both conditions are True\n"
          ]
        }
      ]
    },
    {
      "cell_type": "markdown",
      "source": [
        "Or-at least one of the conditions is true"
      ],
      "metadata": {
        "id": "bGJlHV_ZRMZy"
      }
    },
    {
      "cell_type": "code",
      "source": [
        "a = 200\n",
        "b = 33\n",
        "c = 500\n",
        "if a > b or a > c:\n",
        "  print(\"At least one of the conditions is True\")"
      ],
      "metadata": {
        "colab": {
          "base_uri": "https://localhost:8080/"
        },
        "id": "LsmCc6AbRQU8",
        "outputId": "248be435-645c-425d-bc46-23b5f03bd981"
      },
      "execution_count": 8,
      "outputs": [
        {
          "output_type": "stream",
          "name": "stdout",
          "text": [
            "At least one of the conditions is True\n"
          ]
        }
      ]
    },
    {
      "cell_type": "markdown",
      "source": [
        "Nested If"
      ],
      "metadata": {
        "id": "j__4TmSpRe6D"
      }
    },
    {
      "cell_type": "code",
      "source": [
        "x = 41\n",
        "\n",
        "if x > 10:\n",
        "  print(\"Above ten,\")\n",
        "else:\n",
        "  print(\"but not above ten\")\n",
        "if x > 20:\n",
        "    print(\"and also above 20!\")\n",
        "else:\n",
        "      print(\"but not above 20.\")\n",
        "if x > 30:\n",
        "    print(\"and also above 30!\")\n",
        "else:\n",
        "      print(\"but not above 30.\")\n",
        "if x > 40:\n",
        "    print(\"and also above 40!\")\n",
        "else:\n",
        "      print(\"but not above 40.\")\n",
        "if x > 50:\n",
        "    print(\"and also above 50!\")\n",
        "else:\n",
        "      print(\"but not above 50.\")"
      ],
      "metadata": {
        "colab": {
          "base_uri": "https://localhost:8080/"
        },
        "id": "jDp6YF6CRf7M",
        "outputId": "30e9d0b7-2eed-4749-a1cf-1c2c1d55d9e8"
      },
      "execution_count": 21,
      "outputs": [
        {
          "output_type": "stream",
          "name": "stdout",
          "text": [
            "Above ten,\n",
            "and also above 20!\n",
            "and also above 30!\n",
            "and also above 40!\n",
            "but not above 50.\n"
          ]
        }
      ]
    },
    {
      "cell_type": "markdown",
      "source": [
        "Example 1:"
      ],
      "metadata": {
        "id": "ZXe87h7RRvOz"
      }
    },
    {
      "cell_type": "code",
      "source": [
        "x = int(input())\n",
        "\n",
        "if x >= 18:\n",
        "  print(\"You are qualified to vote!\")\n",
        "else:\n",
        "  print(\"You are not qualified to vote\")"
      ],
      "metadata": {
        "colab": {
          "base_uri": "https://localhost:8080/"
        },
        "id": "7ZPEe2WJRxCz",
        "outputId": "cc61f1e7-8941-47c0-cedd-a70e7c2680f4"
      },
      "execution_count": 10,
      "outputs": [
        {
          "output_type": "stream",
          "name": "stdout",
          "text": [
            "19\n",
            "You are qualified to vote!\n"
          ]
        }
      ]
    },
    {
      "cell_type": "markdown",
      "source": [
        "Example 2:"
      ],
      "metadata": {
        "id": "LsUuhOpcSj_D"
      }
    },
    {
      "cell_type": "code",
      "source": [
        "x = int(input())\n",
        "\n",
        "if x == 0:\n",
        "  print(\"Zero\")\n",
        "elif x < 0:\n",
        "  print(\"Negative\")\n",
        "else:\n",
        "  print(\"Positive\")\n"
      ],
      "metadata": {
        "colab": {
          "base_uri": "https://localhost:8080/"
        },
        "id": "s331_g9NSqE7",
        "outputId": "964ab598-c587-4a27-a4b1-8ac792205320"
      },
      "execution_count": 16,
      "outputs": [
        {
          "output_type": "stream",
          "name": "stdout",
          "text": [
            "-3\n",
            "Negative\n"
          ]
        }
      ]
    },
    {
      "cell_type": "markdown",
      "source": [
        "Example 3"
      ],
      "metadata": {
        "id": "FXM2aIuDTzD8"
      }
    },
    {
      "cell_type": "code",
      "source": [
        "x = int(input())\n",
        "\n",
        "if x >= 70:\n",
        "  print(\"Passed\")\n",
        "elif x >= 65 and x < 70:\n",
        "  print(\"Remedial\")\n",
        "elif x > 0:\n",
        "  print(\"Failed\")\n",
        "else:\n",
        "  print(\"Not Accepted\")\n"
      ],
      "metadata": {
        "colab": {
          "base_uri": "https://localhost:8080/"
        },
        "id": "vrRj4D57T0Rc",
        "outputId": "706abfef-5ed6-41e8-cd33-4977734987fe"
      },
      "execution_count": 42,
      "outputs": [
        {
          "output_type": "stream",
          "name": "stdout",
          "text": [
            "66\n",
            "Remedial\n"
          ]
        }
      ]
    }
  ]
}