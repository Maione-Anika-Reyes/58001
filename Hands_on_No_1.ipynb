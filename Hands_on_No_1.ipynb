{
  "nbformat": 4,
  "nbformat_minor": 0,
  "metadata": {
    "colab": {
      "provenance": [],
      "authorship_tag": "ABX9TyPLELaKyYNBJZiNq5gF6m9U",
      "include_colab_link": true
    },
    "kernelspec": {
      "name": "python3",
      "display_name": "Python 3"
    },
    "language_info": {
      "name": "python"
    }
  },
  "cells": [
    {
      "cell_type": "markdown",
      "metadata": {
        "id": "view-in-github",
        "colab_type": "text"
      },
      "source": [
        "<a href=\"https://colab.research.google.com/github/Maione-Anika-Reyes/OOP-58001/blob/main/Hands_on_No_1.ipynb\" target=\"_parent\"><img src=\"https://colab.research.google.com/assets/colab-badge.svg\" alt=\"Open In Colab\"/></a>"
      ]
    },
    {
      "cell_type": "code",
      "source": [
        "class Person:\n",
        "  def __init__(self,std1,std2,std3,pre,mid,fin):\n",
        "    self.__std1 = std1\n",
        "    self.__std2 = std2\n",
        "    self.__std3 = std3\n",
        "    self.__pre = pre\n",
        "    self.__mid = mid \n",
        "    self.__fin = fin\n",
        "\n",
        "  def Grade(self):\n",
        "    average = (self.__pre + self.__mid + self.__fin)/3\n",
        "    print(f\"The average of\", self.__std1 + self.__std2 + self.__std3, \"is\", average, \"\\n\")\n",
        "\n",
        "student = Person(\"Gilmore\" ,\"\",\"\", 90, 91, 94)\n",
        "student.Grade()\n",
        "student = Person(\"\",\"Stan\",\"\" , 87, 88, 91)\n",
        "student.Grade()\n",
        "student = Person(\"\",\"\",\"Mary\" , 92, 91, 95)\n",
        "student.Grade()\n"
      ],
      "metadata": {
        "colab": {
          "base_uri": "https://localhost:8080/"
        },
        "id": "t1k_uEFzk7ra",
        "outputId": "3663a58e-126f-4ee3-e44b-fa175288f406"
      },
      "execution_count": 11,
      "outputs": [
        {
          "output_type": "stream",
          "name": "stdout",
          "text": [
            "The average of Gilmore is 91.66666666666667 \n",
            "\n",
            "The average of Stan is 88.66666666666667 \n",
            "\n",
            "The average of Mary is 92.66666666666667 \n",
            "\n"
          ]
        }
      ]
    }
  ]
}