{
  "nbformat": 4,
  "nbformat_minor": 0,
  "metadata": {
    "colab": {
      "provenance": [],
      "authorship_tag": "ABX9TyOYcHJmvyOg/eM/OAH1Iraw",
      "include_colab_link": true
    },
    "kernelspec": {
      "name": "python3",
      "display_name": "Python 3"
    },
    "language_info": {
      "name": "python"
    }
  },
  "cells": [
    {
      "cell_type": "markdown",
      "metadata": {
        "id": "view-in-github",
        "colab_type": "text"
      },
      "source": [
        "<a href=\"https://colab.research.google.com/github/Maione-Anika-Reyes/OOP-58001/blob/main/LabActivity_1.ipynb\" target=\"_parent\"><img src=\"https://colab.research.google.com/assets/colab-badge.svg\" alt=\"Open In Colab\"/></a>"
      ]
    },
    {
      "cell_type": "markdown",
      "source": [
        "Lab Activity #1"
      ],
      "metadata": {
        "id": "0g0LDmrUHUYp"
      }
    },
    {
      "cell_type": "code",
      "source": [
        "n = 20\n",
        "totalnumber = n\n",
        "sum = 0\n",
        "average = 0\n",
        "\n",
        "while n>=0:\n",
        "  sum += n\n",
        "  n -= 1\n",
        "\n",
        "else:\n",
        "  print(\"sum = \", sum)\n",
        "average = sum/totalnumber\n",
        "print (\"Average = \", average)\n",
        "\n",
        "\n",
        "\n"
      ],
      "metadata": {
        "colab": {
          "base_uri": "https://localhost:8080/"
        },
        "id": "TtrPtBPrHUhB",
        "outputId": "37b02f7c-6e57-4740-8614-63e41ff6dc6c"
      },
      "execution_count": 8,
      "outputs": [
        {
          "output_type": "stream",
          "name": "stdout",
          "text": [
            "sum =  210\n",
            "Average =  10.5\n"
          ]
        }
      ]
    }
  ]
}