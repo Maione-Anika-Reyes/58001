{
  "nbformat": 4,
  "nbformat_minor": 0,
  "metadata": {
    "colab": {
      "provenance": [],
      "authorship_tag": "ABX9TyMjWEL/pVIpxshbZuZuTx8T",
      "include_colab_link": true
    },
    "kernelspec": {
      "name": "python3",
      "display_name": "Python 3"
    },
    "language_info": {
      "name": "python"
    }
  },
  "cells": [
    {
      "cell_type": "markdown",
      "metadata": {
        "id": "view-in-github",
        "colab_type": "text"
      },
      "source": [
        "<a href=\"https://colab.research.google.com/github/Maione-Anika-Reyes/OOP-58001/blob/main/Lab_Activity_2.ipynb\" target=\"_parent\"><img src=\"https://colab.research.google.com/assets/colab-badge.svg\" alt=\"Open In Colab\"/></a>"
      ]
    },
    {
      "cell_type": "code",
      "source": [
        "class Circle:\n",
        "  pi = 3.14159\n",
        "\n",
        "  def __init__ (self, radius):\n",
        "    self.radius = radius \n",
        "\n",
        "  def display(self):\n",
        "    print(\"Perimeter: \", self.perimeter())\n",
        "    print(\"Area: \", self.area())\n",
        "\n",
        "  def area(self):\n",
        "    return self.pi * self.radius ** 2\n",
        "\n",
        "  def perimeter(self):\n",
        "    return 2 * self.pi * self.radius\n",
        "\n",
        "radius = float(input(\"Radius of the Circle: \"))\n",
        "circle = Circle(radius)\n",
        "circle.display()\n"
      ],
      "metadata": {
        "colab": {
          "base_uri": "https://localhost:8080/"
        },
        "id": "2VUbr-il8E8w",
        "outputId": "078937e0-4de8-4e9e-9105-3b36e1436144"
      },
      "execution_count": 7,
      "outputs": [
        {
          "output_type": "stream",
          "name": "stdout",
          "text": [
            "Radius of the Circle: 15\n",
            "Perimeter:  94.2477\n",
            "Area:  706.85775\n"
          ]
        }
      ]
    }
  ]
}