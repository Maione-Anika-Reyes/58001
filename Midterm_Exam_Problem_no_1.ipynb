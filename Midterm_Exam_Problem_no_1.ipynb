{
  "nbformat": 4,
  "nbformat_minor": 0,
  "metadata": {
    "colab": {
      "provenance": [],
      "authorship_tag": "ABX9TyPWRA7MYgQ1u9cmvWUSY1Jv",
      "include_colab_link": true
    },
    "kernelspec": {
      "name": "python3",
      "display_name": "Python 3"
    },
    "language_info": {
      "name": "python"
    }
  },
  "cells": [
    {
      "cell_type": "markdown",
      "metadata": {
        "id": "view-in-github",
        "colab_type": "text"
      },
      "source": [
        "<a href=\"https://colab.research.google.com/github/Maione-Anika-Reyes/OOP-58001/blob/main/Midterm_Exam_Problem_no_1.ipynb\" target=\"_parent\"><img src=\"https://colab.research.google.com/assets/colab-badge.svg\" alt=\"Open In Colab\"/></a>"
      ]
    },
    {
      "cell_type": "code",
      "source": [
        "class Circle:\n",
        "  pi = 3.14159\n",
        "\n",
        "  def __init__ (self, diameter):\n",
        "    self.diameter = diameter \n",
        "\n",
        "  def area(self):\n",
        "    return 1/4 * self.pi * self.diameter ** 2\n",
        "\n",
        "  def perimeter(self):\n",
        "    return self.pi * self.diameter\n",
        "\n",
        "  def display(self):\n",
        "    print(\"Perimeter: \", self.perimeter())\n",
        "    print(\"Area: \", self.area())\n",
        "\n",
        "diameter = float(input(\"Enter the Diameter of the Circle: \"))\n",
        "circle = Circle(diameter)\n",
        "circle.display()\n"
      ],
      "metadata": {
        "colab": {
          "base_uri": "https://localhost:8080/"
        },
        "id": "tGWhYSuaHlCa",
        "outputId": "b4ea23f3-6967-4b0d-c83a-6a0582982fbe"
      },
      "execution_count": 27,
      "outputs": [
        {
          "output_type": "stream",
          "name": "stdout",
          "text": [
            "Enter the Diameter of the Circle: 35\n",
            "Perimeter:  109.95564999999999\n",
            "Area:  962.1119375\n"
          ]
        }
      ]
    }
  ]
}