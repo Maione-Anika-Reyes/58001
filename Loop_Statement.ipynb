{
  "nbformat": 4,
  "nbformat_minor": 0,
  "metadata": {
    "colab": {
      "provenance": [],
      "authorship_tag": "ABX9TyN6A4pL34UfqukohXymI05/",
      "include_colab_link": true
    },
    "kernelspec": {
      "name": "python3",
      "display_name": "Python 3"
    },
    "language_info": {
      "name": "python"
    }
  },
  "cells": [
    {
      "cell_type": "markdown",
      "metadata": {
        "id": "view-in-github",
        "colab_type": "text"
      },
      "source": [
        "<a href=\"https://colab.research.google.com/github/Maione-Anika-Reyes/OOP-58001/blob/main/Loop_Statement.ipynb\" target=\"_parent\"><img src=\"https://colab.research.google.com/assets/colab-badge.svg\" alt=\"Open In Colab\"/></a>"
      ]
    },
    {
      "cell_type": "markdown",
      "source": [
        "Example 4: Looping through a String"
      ],
      "metadata": {
        "id": "iBARlhbLb45q"
      }
    },
    {
      "cell_type": "code",
      "source": [
        "for x in \"week\":\n",
        "  print (x)"
      ],
      "metadata": {
        "colab": {
          "base_uri": "https://localhost:8080/"
        },
        "id": "x3eZ2Et3b5AL",
        "outputId": "022740fe-72c9-43b5-d20f-0ab7e287f135"
      },
      "execution_count": 2,
      "outputs": [
        {
          "output_type": "stream",
          "name": "stdout",
          "text": [
            "w\n",
            "e\n",
            "e\n",
            "k\n"
          ]
        }
      ]
    },
    {
      "cell_type": "markdown",
      "source": [
        "Nested Loops"
      ],
      "metadata": {
        "id": "H5jJLcJweQSL"
      }
    },
    {
      "cell_type": "code",
      "source": [
        "adjective = [\"red\",\"big\",\"tasty\"]\n",
        "fruits = [\"apple\",\"banana\",\"cherry\"]\n",
        "\n",
        "for x in adjective:\n",
        "  for y in fruits:\n",
        "    print(x,y)"
      ],
      "metadata": {
        "colab": {
          "base_uri": "https://localhost:8080/"
        },
        "id": "rv9iODZLeQY8",
        "outputId": "c07d6aa0-8ef2-4c7f-b960-9f255d474561"
      },
      "execution_count": 3,
      "outputs": [
        {
          "output_type": "stream",
          "name": "stdout",
          "text": [
            "red apple\n",
            "red banana\n",
            "red cherry\n",
            "big apple\n",
            "big banana\n",
            "big cherry\n",
            "tasty apple\n",
            "tasty banana\n",
            "tasty cherry\n"
          ]
        }
      ]
    },
    {
      "cell_type": "markdown",
      "source": [
        "Example 5: While Loop"
      ],
      "metadata": {
        "id": "pTLb5pRTfED_"
      }
    },
    {
      "cell_type": "code",
      "source": [
        "i = 1\n",
        "while i < 6:\n",
        "  print(i)\n",
        "  i += 1"
      ],
      "metadata": {
        "colab": {
          "base_uri": "https://localhost:8080/"
        },
        "id": "xoaNrdynfEJL",
        "outputId": "18f8beaf-3d55-443e-ffb6-c15f74043ae0"
      },
      "execution_count": 4,
      "outputs": [
        {
          "output_type": "stream",
          "name": "stdout",
          "text": [
            "1\n",
            "2\n",
            "3\n",
            "4\n",
            "5\n"
          ]
        }
      ]
    },
    {
      "cell_type": "code",
      "source": [
        "#using break statement\n",
        "\n",
        "i = 1\n",
        "while i<6:\n",
        "  print(i)\n",
        "  if i == 3:\n",
        "    break \n",
        "  i+=1"
      ],
      "metadata": {
        "colab": {
          "base_uri": "https://localhost:8080/"
        },
        "id": "7f5Xga_mhl35",
        "outputId": "5dc3d4ad-4893-4a28-993d-8c4c2d571b04"
      },
      "execution_count": 9,
      "outputs": [
        {
          "output_type": "stream",
          "name": "stdout",
          "text": [
            "1\n",
            "2\n",
            "3\n"
          ]
        }
      ]
    },
    {
      "cell_type": "code",
      "source": [
        "i = 1\n",
        "while i<6:\n",
        "  if i==3:\n",
        "    print(i)   #prints only 3\n",
        "    break\n",
        "  i+=1"
      ],
      "metadata": {
        "colab": {
          "base_uri": "https://localhost:8080/"
        },
        "id": "czq2bUfeie6i",
        "outputId": "51d61a34-c7f3-4ec7-dbab-2a625cdc17e4"
      },
      "execution_count": 10,
      "outputs": [
        {
          "output_type": "stream",
          "name": "stdout",
          "text": [
            "3\n"
          ]
        }
      ]
    },
    {
      "cell_type": "markdown",
      "source": [
        "Application 1"
      ],
      "metadata": {
        "id": "ShBPYe9RjZpz"
      }
    },
    {
      "cell_type": "code",
      "source": [
        "i = 0\n",
        "\n",
        "while i<11:\n",
        "  print('Hello',(i))\n",
        "  i+=1"
      ],
      "metadata": {
        "colab": {
          "base_uri": "https://localhost:8080/"
        },
        "id": "qERd_im-ja06",
        "outputId": "208586ec-693d-4f5d-fabd-bd43d75d5b31"
      },
      "execution_count": 26,
      "outputs": [
        {
          "output_type": "stream",
          "name": "stdout",
          "text": [
            "Hello 0\n",
            "Hello 1\n",
            "Hello 2\n",
            "Hello 3\n",
            "Hello 4\n",
            "Hello 5\n",
            "Hello 6\n",
            "Hello 7\n",
            "Hello 8\n",
            "Hello 9\n",
            "Hello 10\n"
          ]
        }
      ]
    },
    {
      "cell_type": "markdown",
      "source": [
        "Application 2"
      ],
      "metadata": {
        "id": "T7DcqzbGkXaG"
      }
    },
    {
      "cell_type": "code",
      "source": [
        "i = 3\n",
        "\n",
        "while i<10:\n",
        "  print(i)\n",
        "  i+=1"
      ],
      "metadata": {
        "colab": {
          "base_uri": "https://localhost:8080/"
        },
        "id": "boKsdTsSkY9c",
        "outputId": "20fcb598-66ae-4146-d6af-7aed70e32310"
      },
      "execution_count": 28,
      "outputs": [
        {
          "output_type": "stream",
          "name": "stdout",
          "text": [
            "3\n",
            "4\n",
            "5\n",
            "6\n",
            "7\n",
            "8\n",
            "9\n"
          ]
        }
      ]
    }
  ]
}